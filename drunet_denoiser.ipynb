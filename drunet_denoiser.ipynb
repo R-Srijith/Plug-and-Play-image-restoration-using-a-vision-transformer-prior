{
  "cells": [
    {
      "cell_type": "code",
      "source": [
        "from google.colab import drive\n",
        "drive.mount('/content/drive', force_remount=True)"
      ],
      "metadata": {
        "colab": {
          "base_uri": "https://localhost:8080/"
        },
        "id": "oz3AEXC31miu",
        "outputId": "f9edb845-9deb-4c42-8b7f-e8ff67f1a291"
      },
      "execution_count": null,
      "outputs": [
        {
          "output_type": "stream",
          "name": "stdout",
          "text": [
            "Mounted at /content/drive\n"
          ]
        }
      ]
    },
    {
      "cell_type": "code",
      "source": [
        "%cd drive/MyDrive/SRFP/DPIR"
      ],
      "metadata": {
        "colab": {
          "base_uri": "https://localhost:8080/"
        },
        "id": "EEPvNd911ygk",
        "outputId": "774850fb-236b-45ec-c7a1-c3263c9760f5"
      },
      "execution_count": null,
      "outputs": [
        {
          "output_type": "stream",
          "name": "stdout",
          "text": [
            "/content/drive/MyDrive/SRFP/DPIR\n"
          ]
        }
      ]
    },
    {
      "cell_type": "code",
      "source": [
        "!ls "
      ],
      "metadata": {
        "colab": {
          "base_uri": "https://localhost:8080/"
        },
        "id": "jl-W8AYOr7PK",
        "outputId": "c062a92b-4cff-465f-afe2-680052bf35c3"
      },
      "execution_count": null,
      "outputs": [
        {
          "output_type": "stream",
          "name": "stdout",
          "text": [
            "DPIR_deblur.ipynb\t\t       main_dpir_demosaick.py\n",
            "DPIR_deblur_restomer_FineTuning.ipynb  main_dpir_denoising.py\n",
            "DPIR_Denoising_drunet_color.ipynb      main_dpir_sisr.py\n",
            "DPIR_sigma15_Denoising_Restomer.ipynb  main_dpir_sisr_real_applications.py\n",
            "figs\t\t\t\t       models\n",
            "kernels\t\t\t\t       model_zoo\n",
            "LICENSE\t\t\t\t       README.md\n",
            "main_download_pretrained_models.py     results\n",
            "main_dpir_deblocking_color.py\t       testsets\n",
            "main_dpir_deblocking_grayscale.py      utils\n",
            "main_dpir_deblur.py\n"
          ]
        }
      ]
    },
    {
      "cell_type": "code",
      "source": [
        "!pip install einops\n",
        "import os.path\n",
        "import logging\n",
        "\n",
        "import numpy as np\n",
        "from collections import OrderedDict\n",
        "\n",
        "import torch\n",
        "\n",
        "from utils import utils_logger\n",
        "from utils import utils_model\n",
        "from utils import utils_image as util\n",
        "\n",
        "\n",
        "\"\"\"\n",
        "Spyder (Python 3.7)\n",
        "PyTorch 1.6.0\n",
        "Windows 10 or Linux\n",
        "Kai Zhang (cskaizhang@gmail.com)\n",
        "github: https://github.com/cszn/DPIR\n",
        "        https://github.com/cszn/IRCNN\n",
        "        https://github.com/cszn/KAIR\n",
        "@article{zhang2020plug,\n",
        "  title={Plug-and-Play Image Restoration with Deep Denoiser Prior},\n",
        "  author={Zhang, Kai and Li, Yawei and Zuo, Wangmeng and Zhang, Lei and Van Gool, Luc and Timofte, Radu},\n",
        "  journal={arXiv preprint},\n",
        "  year={2020}\n",
        "}\n",
        "% If you have any question, please feel free to contact with me.\n",
        "% Kai Zhang (e-mail: cskaizhang@gmail.com; homepage: https://cszn.github.io/)\n",
        "by Kai Zhang (01/August/2020)\n",
        "\n",
        "# --------------------------------------------\n",
        "|--model_zoo               # model_zoo\n",
        "   |--drunet_gray          # model_name, for color images\n",
        "   |--drunet_color\n",
        "|--testset                 # testsets\n",
        "   |--set12                # testset_name\n",
        "   |--bsd68\n",
        "   |--cbsd68\n",
        "|--results                 # results\n",
        "   |--set12_dn_drunet_gray # result_name = testset_name + '_' + 'dn' + model_name\n",
        "   |--set12_dn_drunet_color\n",
        "# --------------------------------------------\n",
        "\"\"\"\n",
        "\n",
        "\n",
        "def main():\n",
        "\n",
        "    # ----------------------------------------\n",
        "    # Preparation ; currenlty grunet_gray is used on bsd68\n",
        "    # ----------------------------------------\n",
        "\n",
        "    noise_level_img =50                                                         # set AWGN noise level for noisy image\n",
        "    noise_level_model = noise_level_img                                         #noise_level_img  # set noise level for model\n",
        "    model_name = 'drunet_color'                                                 # set denoiser model, 'drunet_gray' | 'drunet_color'\n",
        "    testset_name = 'set12'                                                      #'set12' #'bsd68'               # set test set,  'bsd68' | 'cbsd68' | 'set12'\n",
        "    x8 = False                                                                  # default: False, x8 to boost performance\n",
        "    show_img = False                                                             # default: False (will show the noisy image if set to true)\n",
        "    border = 0                                                                  # shave boader to calculate PSNR and SSIM\n",
        "\n",
        "    if 'color' in model_name:\n",
        "        n_channels = 3                                                          # 3 for color image\n",
        "    else:\n",
        "        n_channels = 1                                                          # 1 for grayscale image\n",
        "\n",
        "    model_pool = 'model_zoo'                                                    # fixed\n",
        "    testsets = 'testsets'                                                       # fixed\n",
        "    results = 'results'                                                         # fixed\n",
        "    task_current = 'dn'                                                         # 'dn' for denoising\n",
        "    result_name = testset_name + '_' + task_current + '_' + model_name          #bsd68_dn_drunet_gray\n",
        "\n",
        "    model_path = os.path.join(model_pool, model_name+'.pth')                    #model_zoo/drunet_gray.pth\n",
        "    device = torch.device('cuda' if torch.cuda.is_available() else 'cpu')\n",
        "    torch.cuda.empty_cache()\n",
        "\n",
        "    # ----------------------------------------\n",
        "    # L_path, E_path, H_path\n",
        "    # ----------------------------------------\n",
        "\n",
        "    L_path = os.path.join(testsets, testset_name)                               # L_path, for Low-quality images : testsets/bsd68\n",
        "    E_path = os.path.join(results, result_name)                                 # E_path, for Estimated images : results/bsd68_dn_drunet_gray\n",
        "    util.mkdir(E_path)\n",
        "\n",
        "    logger_name = result_name\n",
        "    utils_logger.logger_info(logger_name, log_path=os.path.join(E_path, logger_name+'.log'))  #logPath = results/bsd68_dn_drunet_gray/bsd68_dn_drunet_gray.log\n",
        "    logger = logging.getLogger(logger_name)\n",
        "\n",
        "    # ----------------------------------------\n",
        "    # load model\n",
        "    # ----------------------------------------\n",
        "\n",
        "    from models.network_unet import UNetRes as net  #the artitecture code of the network without weights has been imported as net \n",
        "    model = net(in_nc=n_channels+1, out_nc=n_channels, nc=[64, 128, 256, 512], nb=4, act_mode='R', downsample_mode=\"strideconv\", upsample_mode=\"convtranspose\")\n",
        "    model.load_state_dict(torch.load(model_path), strict=True) #load the weights of the network\n",
        "    model.eval()# set to training mode\n",
        "    for k, v in model.named_parameters():\n",
        "        v.requires_grad = False\n",
        "    model = model.to(device)\n",
        "    logger.info('Model path: {:s}'.format(model_path))\n",
        "    number_parameters = sum(map(lambda x: x.numel(), model.parameters()))\n",
        "    logger.info('Params number: {}'.format(number_parameters))\n",
        "\n",
        "    test_results = OrderedDict() # a dictionary that remembers the order of key insertion \n",
        "    test_results['psnr'] = []\n",
        "    test_results['ssim'] = []\n",
        "\n",
        "    logger.info('model_name:{}, model sigma:{}, image sigma:{}'.format(model_name, noise_level_img, noise_level_model))\n",
        "    logger.info(L_path)\n",
        "    L_paths = util.get_image_paths(L_path) #L_paths = list containing the paths of all the  images in the directory L_path(which were low-quality)\n",
        "\n",
        "    for idx, img in enumerate(L_paths): #idx: image id ; img : image path\n",
        "\n",
        "        # ------------------------------------\n",
        "        # (1) img_L\n",
        "        # ------------------------------------\n",
        "\n",
        "        img_name, ext = os.path.splitext(os.path.basename(img))# img_name: name of the image ; ext: extension of the image\n",
        "        # logger.info('{:->4d}--> {:>10s}'.format(idx+1, img_name+ext))\n",
        "        img_H = util.imread_uint(img, n_channels=n_channels) #img_H: read the image using cv2\n",
        "        img_L = util.uint2single(img_H)# just divided by 255 and made dtype int-> float32\n",
        "\n",
        "        # Add noise without clipping\n",
        "        np.random.seed(seed=0)  # for reproducibility\n",
        "        img_L += np.random.normal(0, noise_level_img/255., img_L.shape) # Added noise to the image\n",
        "\n",
        "        util.imshow(util.single2uint(img_L), title='Noisy image with noise level {}'.format(noise_level_img)) if show_img else None\n",
        "\n",
        "        img_L = util.single2tensor4(img_L) #image to a tensor of shape B,C,H,W\n",
        "        img_L = torch.cat((img_L, torch.FloatTensor([noise_level_model/255.]).repeat(1, 1, img_L.shape[2], img_L.shape[3])), dim=1) # concatenated along the channel dimension ()\n",
        "        # added another channel to the image, which is the noise level\n",
        "        img_L = img_L.to(device)\n",
        "\n",
        "        # ------------------------------------\n",
        "        # (2) img_E\n",
        "        # ------------------------------------\n",
        "        #B,C,H,W\n",
        "        if not x8 and img_L.size(2)//8==0 and img_L.size(3)//8==0:\n",
        "            img_E = model(img_L)\n",
        "        elif not x8 and (img_L.size(2)//8!=0 or img_L.size(3)//8!=0):\n",
        "            img_E = utils_model.test_mode(model, img_L, refield=64, mode=5)\n",
        "        elif x8:\n",
        "            img_E = utils_model.test_mode(model, img_L, mode=3)\n",
        "\n",
        "        img_E = util.tensor2uint(img_E)\n",
        "\n",
        "        # --------------------------------\n",
        "        # PSNR and SSIM\n",
        "        # --------------------------------\n",
        "\n",
        "        if n_channels == 1:\n",
        "            img_H = img_H.squeeze() \n",
        "        psnr = util.calculate_psnr(img_E, img_H, border=border)\n",
        "        ssim = util.calculate_ssim(img_E, img_H, border=border)\n",
        "        test_results['psnr'].append(psnr)\n",
        "        test_results['ssim'].append(ssim)\n",
        "        logger.info('{:s} - PSNR: {:.2f} dB; SSIM: {:.4f}.'.format(img_name+ext, psnr, ssim))\n",
        "\n",
        "        # ------------------------------------\n",
        "        # save results\n",
        "        # ------------------------------------\n",
        "\n",
        "        util.imsave(img_E, os.path.join(E_path, img_name+ext))\n",
        "\n",
        "    ave_psnr = sum(test_results['psnr']) / len(test_results['psnr'])\n",
        "    ave_ssim = sum(test_results['ssim']) / len(test_results['ssim'])\n",
        "    logger.info('Average PSNR/SSIM(RGB) - {} - PSNR: {:.2f} dB; SSIM: {:.4f}'.format(result_name, ave_psnr, ave_ssim))\n",
        "\n",
        "\n",
        "if __name__ == '__main__':\n",
        "\n",
        "    main()\n"
      ],
      "metadata": {
        "colab": {
          "base_uri": "https://localhost:8080/"
        },
        "id": "XJH3d_QwVkBn",
        "outputId": "15a89173-08eb-4c64-df5d-2d915f63182e"
      },
      "execution_count": null,
      "outputs": [
        {
          "output_type": "stream",
          "name": "stdout",
          "text": [
            "LogHandlers exists!\n"
          ]
        },
        {
          "output_type": "stream",
          "name": "stderr",
          "text": [
            "22-06-22 04:56:48.253 : Model path: model_zoo/drunet_color.pth\n",
            "22-06-22 04:56:48.257 : Params number: 32640960\n",
            "22-06-22 04:56:48.260 : model_name:drunet_color, model sigma:50, image sigma:25\n",
            "22-06-22 04:56:48.264 : testsets/set12\n",
            "22-06-22 04:56:48.756 : 01.png - PSNR: 17.43 dB; SSIM: 0.2577.\n",
            "22-06-22 04:56:49.272 : 02.png - PSNR: 16.93 dB; SSIM: 0.1797.\n",
            "22-06-22 04:56:49.712 : 03.png - PSNR: 17.06 dB; SSIM: 0.2427.\n",
            "22-06-22 04:56:50.152 : 04.png - PSNR: 17.12 dB; SSIM: 0.3262.\n",
            "22-06-22 04:56:50.579 : 05.png - PSNR: 16.99 dB; SSIM: 0.3317.\n",
            "22-06-22 04:56:51.004 : 06.png - PSNR: 17.21 dB; SSIM: 0.2657.\n",
            "22-06-22 04:56:51.425 : 07.png - PSNR: 17.53 dB; SSIM: 0.2933.\n",
            "22-06-22 04:56:52.526 : 08.png - PSNR: 16.95 dB; SSIM: 0.1682.\n",
            "22-06-22 04:56:53.641 : 09.png - PSNR: 17.04 dB; SSIM: 0.2744.\n",
            "22-06-22 04:56:54.742 : 10.png - PSNR: 16.93 dB; SSIM: 0.2201.\n",
            "22-06-22 04:56:55.862 : 11.png - PSNR: 16.91 dB; SSIM: 0.2025.\n",
            "22-06-22 04:56:57.028 : 12.png - PSNR: 16.91 dB; SSIM: 0.2382.\n",
            "22-06-22 04:56:57.065 : Average PSNR/SSIM(RGB) - set12_dn_drunet_color - PSNR: 17.09 dB; SSIM: 0.2500\n"
          ]
        }
      ]
    },
    {
      "cell_type": "code",
      "source": [
        ""
      ],
      "metadata": {
        "id": "6ULiYHmjG9Ci"
      },
      "execution_count": null,
      "outputs": []
    }
  ],
  "metadata": {
    "accelerator": "GPU",
    "colab": {
      "collapsed_sections": [],
      "name": "drunet_denoiser.ipynb",
      "provenance": []
    },
    "kernelspec": {
      "display_name": "Python 3",
      "name": "python3"
    },
    "language_info": {
      "name": "python"
    },
    "gpuClass": "standard"
  },
  "nbformat": 4,
  "nbformat_minor": 0
}